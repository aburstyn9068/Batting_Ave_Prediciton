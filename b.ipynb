{
 "cells": [
  {
   "cell_type": "markdown",
   "id": "sunrise-threat",
   "metadata": {},
   "source": [
    "This notebook provides a model to predict a player's 2018 final batting average using stats from March/April 2018. I felt the best approach to this was to look at a prior year's early season to post season comparison.\n",
    "\n",
    "The prediction model will use the April 2017 data (there were no games in March 2017, opening day was 4/2/17) and final batting average data from the 2017 season to create a linear regression model. The March/April data from the 2018 season will then be used in this model to predict the final batting average for the 2018 season.\n",
    "\n",
    "Not all the data points provided for 2018 were obtained for 2017.\n",
    "\n",
    "The 2017 data uses the labels \"MarApr\" even though there is no data from March 2017. The \"MarApr\" label was used to keep the column names consistant with the 2018 data.\n",
    "\n",
    "2017 data was obtained from Baseball Savant Statcast Search:\n",
    "https://baseballsavant.mlb.com/statcast_search"
   ]
  },
  {
   "cell_type": "code",
   "execution_count": 1,
   "id": "another-personal",
   "metadata": {},
   "outputs": [],
   "source": [
    "# Import dependcies\n",
    "import pandas as pd\n",
    "import numpy as np\n",
    "import matplotlib.pyplot as plt\n",
    "from sklearn import linear_model\n",
    "from sklearn.model_selection import train_test_split\n",
    "from sklearn.metrics import mean_squared_error\n",
    "import seaborn as sns\n",
    "from scipy.stats import linregress\n",
    "import warnings\n",
    "warnings.filterwarnings('ignore')"
   ]
  },
  {
   "cell_type": "code",
   "execution_count": 2,
   "id": "associate-shipping",
   "metadata": {},
   "outputs": [],
   "source": [
    "# Upload csv files data\n",
    "batting = pd.read_csv(\"batting.csv\")\n",
    "batting2017 = pd.read_csv(\"batting2017.csv\")"
   ]
  },
  {
   "cell_type": "markdown",
   "id": "excited-carbon",
   "metadata": {},
   "source": [
    "Explore the data"
   ]
  },
  {
   "cell_type": "code",
   "execution_count": 3,
   "id": "weighted-gross",
   "metadata": {},
   "outputs": [
    {
     "data": {
      "text/plain": [
       "Index(['Name', 'MarApr_PA', 'MarApr_AB', 'MarApr_H', 'MarApr_HR', 'MarApr_K%',\n",
       "       'MarApr_BB%', 'MarApr_BABIP', 'MarApr_ISO', 'MarApr_AVG', 'MarApr_SLG',\n",
       "       'MarApr_OBP', 'FullSeason_AVG'],\n",
       "      dtype='object')"
      ]
     },
     "execution_count": 3,
     "metadata": {},
     "output_type": "execute_result"
    }
   ],
   "source": [
    "# Display the 2017 column names\n",
    "batting2017.columns"
   ]
  },
  {
   "cell_type": "code",
   "execution_count": 4,
   "id": "visible-trailer",
   "metadata": {},
   "outputs": [
    {
     "data": {
      "text/html": [
       "<div>\n",
       "<style scoped>\n",
       "    .dataframe tbody tr th:only-of-type {\n",
       "        vertical-align: middle;\n",
       "    }\n",
       "\n",
       "    .dataframe tbody tr th {\n",
       "        vertical-align: top;\n",
       "    }\n",
       "\n",
       "    .dataframe thead th {\n",
       "        text-align: right;\n",
       "    }\n",
       "</style>\n",
       "<table border=\"1\" class=\"dataframe\">\n",
       "  <thead>\n",
       "    <tr style=\"text-align: right;\">\n",
       "      <th></th>\n",
       "      <th>playerid</th>\n",
       "      <th>Name</th>\n",
       "      <th>Team</th>\n",
       "      <th>MarApr_PA</th>\n",
       "      <th>MarApr_AB</th>\n",
       "      <th>MarApr_H</th>\n",
       "      <th>MarApr_HR</th>\n",
       "      <th>MarApr_R</th>\n",
       "      <th>MarApr_RBI</th>\n",
       "      <th>MarApr_SB</th>\n",
       "      <th>...</th>\n",
       "      <th>MarApr_FB%</th>\n",
       "      <th>MarApr_IFFB%</th>\n",
       "      <th>MarApr_HR/FB</th>\n",
       "      <th>MarApr_O-Swing%</th>\n",
       "      <th>MarApr_Z-Swing%</th>\n",
       "      <th>MarApr_Swing%</th>\n",
       "      <th>MarApr_O-Contact%</th>\n",
       "      <th>MarApr_Z-Contact%</th>\n",
       "      <th>MarApr_Contact%</th>\n",
       "      <th>FullSeason_AVG</th>\n",
       "    </tr>\n",
       "  </thead>\n",
       "  <tbody>\n",
       "    <tr>\n",
       "      <th>0</th>\n",
       "      <td>11680</td>\n",
       "      <td>Elias Diaz</td>\n",
       "      <td>Pirates</td>\n",
       "      <td>34</td>\n",
       "      <td>31</td>\n",
       "      <td>15</td>\n",
       "      <td>2</td>\n",
       "      <td>6</td>\n",
       "      <td>6</td>\n",
       "      <td>0</td>\n",
       "      <td>...</td>\n",
       "      <td>0.250</td>\n",
       "      <td>0.143</td>\n",
       "      <td>0.286</td>\n",
       "      <td>0.303</td>\n",
       "      <td>0.656</td>\n",
       "      <td>0.472</td>\n",
       "      <td>0.500</td>\n",
       "      <td>0.975</td>\n",
       "      <td>0.817</td>\n",
       "      <td>0.286</td>\n",
       "    </tr>\n",
       "    <tr>\n",
       "      <th>1</th>\n",
       "      <td>12161</td>\n",
       "      <td>Xander Bogaerts</td>\n",
       "      <td>Red Sox</td>\n",
       "      <td>54</td>\n",
       "      <td>51</td>\n",
       "      <td>21</td>\n",
       "      <td>3</td>\n",
       "      <td>8</td>\n",
       "      <td>15</td>\n",
       "      <td>0</td>\n",
       "      <td>...</td>\n",
       "      <td>0.395</td>\n",
       "      <td>0.059</td>\n",
       "      <td>0.176</td>\n",
       "      <td>0.356</td>\n",
       "      <td>0.667</td>\n",
       "      <td>0.507</td>\n",
       "      <td>0.676</td>\n",
       "      <td>0.894</td>\n",
       "      <td>0.816</td>\n",
       "      <td>0.288</td>\n",
       "    </tr>\n",
       "    <tr>\n",
       "      <th>2</th>\n",
       "      <td>10816</td>\n",
       "      <td>Jedd Gyorko</td>\n",
       "      <td>Cardinals</td>\n",
       "      <td>30</td>\n",
       "      <td>22</td>\n",
       "      <td>8</td>\n",
       "      <td>2</td>\n",
       "      <td>5</td>\n",
       "      <td>5</td>\n",
       "      <td>1</td>\n",
       "      <td>...</td>\n",
       "      <td>0.529</td>\n",
       "      <td>0.111</td>\n",
       "      <td>0.222</td>\n",
       "      <td>0.295</td>\n",
       "      <td>0.596</td>\n",
       "      <td>0.408</td>\n",
       "      <td>0.522</td>\n",
       "      <td>0.821</td>\n",
       "      <td>0.686</td>\n",
       "      <td>0.262</td>\n",
       "    </tr>\n",
       "    <tr>\n",
       "      <th>3</th>\n",
       "      <td>13611</td>\n",
       "      <td>Mookie Betts</td>\n",
       "      <td>Red Sox</td>\n",
       "      <td>107</td>\n",
       "      <td>90</td>\n",
       "      <td>31</td>\n",
       "      <td>8</td>\n",
       "      <td>29</td>\n",
       "      <td>18</td>\n",
       "      <td>3</td>\n",
       "      <td>...</td>\n",
       "      <td>0.519</td>\n",
       "      <td>0.146</td>\n",
       "      <td>0.195</td>\n",
       "      <td>0.191</td>\n",
       "      <td>0.598</td>\n",
       "      <td>0.356</td>\n",
       "      <td>0.694</td>\n",
       "      <td>0.952</td>\n",
       "      <td>0.869</td>\n",
       "      <td>0.346</td>\n",
       "    </tr>\n",
       "    <tr>\n",
       "      <th>4</th>\n",
       "      <td>11493</td>\n",
       "      <td>Manny Machado</td>\n",
       "      <td>Orioles</td>\n",
       "      <td>125</td>\n",
       "      <td>108</td>\n",
       "      <td>39</td>\n",
       "      <td>9</td>\n",
       "      <td>14</td>\n",
       "      <td>22</td>\n",
       "      <td>2</td>\n",
       "      <td>...</td>\n",
       "      <td>0.478</td>\n",
       "      <td>0.205</td>\n",
       "      <td>0.205</td>\n",
       "      <td>0.289</td>\n",
       "      <td>0.711</td>\n",
       "      <td>0.458</td>\n",
       "      <td>0.654</td>\n",
       "      <td>0.891</td>\n",
       "      <td>0.801</td>\n",
       "      <td>0.297</td>\n",
       "    </tr>\n",
       "    <tr>\n",
       "      <th>...</th>\n",
       "      <td>...</td>\n",
       "      <td>...</td>\n",
       "      <td>...</td>\n",
       "      <td>...</td>\n",
       "      <td>...</td>\n",
       "      <td>...</td>\n",
       "      <td>...</td>\n",
       "      <td>...</td>\n",
       "      <td>...</td>\n",
       "      <td>...</td>\n",
       "      <td>...</td>\n",
       "      <td>...</td>\n",
       "      <td>...</td>\n",
       "      <td>...</td>\n",
       "      <td>...</td>\n",
       "      <td>...</td>\n",
       "      <td>...</td>\n",
       "      <td>...</td>\n",
       "      <td>...</td>\n",
       "      <td>...</td>\n",
       "      <td>...</td>\n",
       "    </tr>\n",
       "    <tr>\n",
       "      <th>304</th>\n",
       "      <td>3298</td>\n",
       "      <td>Charlie Culberson</td>\n",
       "      <td>Braves</td>\n",
       "      <td>31</td>\n",
       "      <td>27</td>\n",
       "      <td>3</td>\n",
       "      <td>0</td>\n",
       "      <td>4</td>\n",
       "      <td>0</td>\n",
       "      <td>0</td>\n",
       "      <td>...</td>\n",
       "      <td>0.313</td>\n",
       "      <td>0.000</td>\n",
       "      <td>0.000</td>\n",
       "      <td>0.406</td>\n",
       "      <td>0.659</td>\n",
       "      <td>0.509</td>\n",
       "      <td>0.577</td>\n",
       "      <td>0.724</td>\n",
       "      <td>0.655</td>\n",
       "      <td>0.270</td>\n",
       "    </tr>\n",
       "    <tr>\n",
       "      <th>305</th>\n",
       "      <td>7087</td>\n",
       "      <td>Caleb Joseph</td>\n",
       "      <td>Orioles</td>\n",
       "      <td>54</td>\n",
       "      <td>51</td>\n",
       "      <td>7</td>\n",
       "      <td>0</td>\n",
       "      <td>2</td>\n",
       "      <td>2</td>\n",
       "      <td>0</td>\n",
       "      <td>...</td>\n",
       "      <td>0.455</td>\n",
       "      <td>0.000</td>\n",
       "      <td>0.000</td>\n",
       "      <td>0.371</td>\n",
       "      <td>0.678</td>\n",
       "      <td>0.498</td>\n",
       "      <td>0.500</td>\n",
       "      <td>0.848</td>\n",
       "      <td>0.695</td>\n",
       "      <td>0.219</td>\n",
       "    </tr>\n",
       "    <tr>\n",
       "      <th>306</th>\n",
       "      <td>8252</td>\n",
       "      <td>Hunter Pence</td>\n",
       "      <td>Giants</td>\n",
       "      <td>61</td>\n",
       "      <td>58</td>\n",
       "      <td>10</td>\n",
       "      <td>0</td>\n",
       "      <td>3</td>\n",
       "      <td>3</td>\n",
       "      <td>1</td>\n",
       "      <td>...</td>\n",
       "      <td>0.324</td>\n",
       "      <td>0.333</td>\n",
       "      <td>0.000</td>\n",
       "      <td>0.381</td>\n",
       "      <td>0.722</td>\n",
       "      <td>0.521</td>\n",
       "      <td>0.660</td>\n",
       "      <td>0.714</td>\n",
       "      <td>0.691</td>\n",
       "      <td>0.226</td>\n",
       "    </tr>\n",
       "    <tr>\n",
       "      <th>307</th>\n",
       "      <td>13130</td>\n",
       "      <td>Mikie Mahtook</td>\n",
       "      <td>Tigers</td>\n",
       "      <td>35</td>\n",
       "      <td>31</td>\n",
       "      <td>4</td>\n",
       "      <td>0</td>\n",
       "      <td>3</td>\n",
       "      <td>1</td>\n",
       "      <td>0</td>\n",
       "      <td>...</td>\n",
       "      <td>0.545</td>\n",
       "      <td>0.083</td>\n",
       "      <td>0.000</td>\n",
       "      <td>0.225</td>\n",
       "      <td>0.583</td>\n",
       "      <td>0.406</td>\n",
       "      <td>0.375</td>\n",
       "      <td>0.833</td>\n",
       "      <td>0.707</td>\n",
       "      <td>0.202</td>\n",
       "    </tr>\n",
       "    <tr>\n",
       "      <th>308</th>\n",
       "      <td>5273</td>\n",
       "      <td>Sandy Leon</td>\n",
       "      <td>Red Sox</td>\n",
       "      <td>32</td>\n",
       "      <td>31</td>\n",
       "      <td>4</td>\n",
       "      <td>0</td>\n",
       "      <td>2</td>\n",
       "      <td>2</td>\n",
       "      <td>1</td>\n",
       "      <td>...</td>\n",
       "      <td>0.609</td>\n",
       "      <td>0.071</td>\n",
       "      <td>0.000</td>\n",
       "      <td>0.406</td>\n",
       "      <td>0.581</td>\n",
       "      <td>0.473</td>\n",
       "      <td>0.714</td>\n",
       "      <td>0.920</td>\n",
       "      <td>0.811</td>\n",
       "      <td>0.177</td>\n",
       "    </tr>\n",
       "  </tbody>\n",
       "</table>\n",
       "<p>309 rows × 29 columns</p>\n",
       "</div>"
      ],
      "text/plain": [
       "     playerid               Name       Team  MarApr_PA  MarApr_AB  MarApr_H  \\\n",
       "0       11680         Elias Diaz    Pirates         34         31        15   \n",
       "1       12161    Xander Bogaerts    Red Sox         54         51        21   \n",
       "2       10816        Jedd Gyorko  Cardinals         30         22         8   \n",
       "3       13611       Mookie Betts    Red Sox        107         90        31   \n",
       "4       11493      Manny Machado    Orioles        125        108        39   \n",
       "..        ...                ...        ...        ...        ...       ...   \n",
       "304      3298  Charlie Culberson     Braves         31         27         3   \n",
       "305      7087       Caleb Joseph    Orioles         54         51         7   \n",
       "306      8252       Hunter Pence     Giants         61         58        10   \n",
       "307     13130      Mikie Mahtook     Tigers         35         31         4   \n",
       "308      5273         Sandy Leon    Red Sox         32         31         4   \n",
       "\n",
       "     MarApr_HR  MarApr_R  MarApr_RBI  MarApr_SB  ...  MarApr_FB%  \\\n",
       "0            2         6           6          0  ...       0.250   \n",
       "1            3         8          15          0  ...       0.395   \n",
       "2            2         5           5          1  ...       0.529   \n",
       "3            8        29          18          3  ...       0.519   \n",
       "4            9        14          22          2  ...       0.478   \n",
       "..         ...       ...         ...        ...  ...         ...   \n",
       "304          0         4           0          0  ...       0.313   \n",
       "305          0         2           2          0  ...       0.455   \n",
       "306          0         3           3          1  ...       0.324   \n",
       "307          0         3           1          0  ...       0.545   \n",
       "308          0         2           2          1  ...       0.609   \n",
       "\n",
       "     MarApr_IFFB%  MarApr_HR/FB  MarApr_O-Swing%  MarApr_Z-Swing%  \\\n",
       "0           0.143         0.286            0.303            0.656   \n",
       "1           0.059         0.176            0.356            0.667   \n",
       "2           0.111         0.222            0.295            0.596   \n",
       "3           0.146         0.195            0.191            0.598   \n",
       "4           0.205         0.205            0.289            0.711   \n",
       "..            ...           ...              ...              ...   \n",
       "304         0.000         0.000            0.406            0.659   \n",
       "305         0.000         0.000            0.371            0.678   \n",
       "306         0.333         0.000            0.381            0.722   \n",
       "307         0.083         0.000            0.225            0.583   \n",
       "308         0.071         0.000            0.406            0.581   \n",
       "\n",
       "     MarApr_Swing%  MarApr_O-Contact%  MarApr_Z-Contact%  MarApr_Contact%  \\\n",
       "0            0.472              0.500              0.975            0.817   \n",
       "1            0.507              0.676              0.894            0.816   \n",
       "2            0.408              0.522              0.821            0.686   \n",
       "3            0.356              0.694              0.952            0.869   \n",
       "4            0.458              0.654              0.891            0.801   \n",
       "..             ...                ...                ...              ...   \n",
       "304          0.509              0.577              0.724            0.655   \n",
       "305          0.498              0.500              0.848            0.695   \n",
       "306          0.521              0.660              0.714            0.691   \n",
       "307          0.406              0.375              0.833            0.707   \n",
       "308          0.473              0.714              0.920            0.811   \n",
       "\n",
       "     FullSeason_AVG  \n",
       "0             0.286  \n",
       "1             0.288  \n",
       "2             0.262  \n",
       "3             0.346  \n",
       "4             0.297  \n",
       "..              ...  \n",
       "304           0.270  \n",
       "305           0.219  \n",
       "306           0.226  \n",
       "307           0.202  \n",
       "308           0.177  \n",
       "\n",
       "[309 rows x 29 columns]"
      ]
     },
     "execution_count": 4,
     "metadata": {},
     "output_type": "execute_result"
    }
   ],
   "source": [
    "batting"
   ]
  },
  {
   "cell_type": "code",
   "execution_count": 5,
   "id": "soviet-corporation",
   "metadata": {},
   "outputs": [
    {
     "data": {
      "text/plain": [
       "Index(['playerid', 'Name', 'Team', 'MarApr_PA', 'MarApr_AB', 'MarApr_H',\n",
       "       'MarApr_HR', 'MarApr_R', 'MarApr_RBI', 'MarApr_SB', 'MarApr_BB%',\n",
       "       'MarApr_K%', 'MarApr_ISO', 'MarApr_BABIP', 'MarApr_AVG', 'MarApr_OBP',\n",
       "       'MarApr_SLG', 'MarApr_LD%', 'MarApr_GB%', 'MarApr_FB%', 'MarApr_IFFB%',\n",
       "       'MarApr_HR/FB', 'MarApr_O-Swing%', 'MarApr_Z-Swing%', 'MarApr_Swing%',\n",
       "       'MarApr_O-Contact%', 'MarApr_Z-Contact%', 'MarApr_Contact%',\n",
       "       'FullSeason_AVG'],\n",
       "      dtype='object')"
      ]
     },
     "execution_count": 5,
     "metadata": {},
     "output_type": "execute_result"
    }
   ],
   "source": [
    "# Display the 2018 column names\n",
    "batting.columns"
   ]
  },
  {
   "cell_type": "code",
   "execution_count": 6,
   "id": "republican-storm",
   "metadata": {},
   "outputs": [
    {
     "data": {
      "text/plain": [
       "Name               object\n",
       "MarApr_PA           int64\n",
       "MarApr_AB           int64\n",
       "MarApr_H            int64\n",
       "MarApr_HR           int64\n",
       "MarApr_K%         float64\n",
       "MarApr_BB%        float64\n",
       "MarApr_BABIP      float64\n",
       "MarApr_ISO        float64\n",
       "MarApr_AVG        float64\n",
       "MarApr_SLG        float64\n",
       "MarApr_OBP        float64\n",
       "FullSeason_AVG    float64\n",
       "dtype: object"
      ]
     },
     "execution_count": 6,
     "metadata": {},
     "output_type": "execute_result"
    }
   ],
   "source": [
    "# Display 2017 datatypes\n",
    "batting2017.dtypes"
   ]
  },
  {
   "cell_type": "code",
   "execution_count": 7,
   "id": "severe-wedding",
   "metadata": {},
   "outputs": [
    {
     "data": {
      "text/plain": [
       "playerid               int64\n",
       "Name                  object\n",
       "Team                  object\n",
       "MarApr_PA              int64\n",
       "MarApr_AB              int64\n",
       "MarApr_H               int64\n",
       "MarApr_HR              int64\n",
       "MarApr_R               int64\n",
       "MarApr_RBI             int64\n",
       "MarApr_SB              int64\n",
       "MarApr_BB%           float64\n",
       "MarApr_K%            float64\n",
       "MarApr_ISO           float64\n",
       "MarApr_BABIP         float64\n",
       "MarApr_AVG           float64\n",
       "MarApr_OBP           float64\n",
       "MarApr_SLG           float64\n",
       "MarApr_LD%           float64\n",
       "MarApr_GB%           float64\n",
       "MarApr_FB%           float64\n",
       "MarApr_IFFB%         float64\n",
       "MarApr_HR/FB         float64\n",
       "MarApr_O-Swing%      float64\n",
       "MarApr_Z-Swing%      float64\n",
       "MarApr_Swing%        float64\n",
       "MarApr_O-Contact%    float64\n",
       "MarApr_Z-Contact%    float64\n",
       "MarApr_Contact%      float64\n",
       "FullSeason_AVG       float64\n",
       "dtype: object"
      ]
     },
     "execution_count": 7,
     "metadata": {},
     "output_type": "execute_result"
    }
   ],
   "source": [
    "# Display 2018 datatypes\n",
    "batting.dtypes"
   ]
  },
  {
   "cell_type": "code",
   "execution_count": 8,
   "id": "norman-auckland",
   "metadata": {},
   "outputs": [
    {
     "data": {
      "text/plain": [
       "30"
      ]
     },
     "execution_count": 8,
     "metadata": {},
     "output_type": "execute_result"
    }
   ],
   "source": [
    "# Find the minimum number of plate appearances in the 2018 data\n",
    "batting[\"MarApr_PA\"].min()"
   ]
  },
  {
   "cell_type": "code",
   "execution_count": 9,
   "id": "straight-chorus",
   "metadata": {},
   "outputs": [],
   "source": [
    "# Match the minimum number of plate appearances in the 2018 data\n",
    "batting2017 = batting2017.loc[batting2017[\"MarApr_PA\"]>=30]"
   ]
  },
  {
   "cell_type": "code",
   "execution_count": 10,
   "id": "alternate-rapid",
   "metadata": {},
   "outputs": [
    {
     "data": {
      "text/plain": [
       "Name              0\n",
       "MarApr_PA         0\n",
       "MarApr_AB         0\n",
       "MarApr_H          0\n",
       "MarApr_HR         0\n",
       "MarApr_K%         0\n",
       "MarApr_BB%        7\n",
       "MarApr_BABIP      0\n",
       "MarApr_ISO        0\n",
       "MarApr_AVG        0\n",
       "MarApr_SLG        0\n",
       "MarApr_OBP        0\n",
       "FullSeason_AVG    0\n",
       "dtype: int64"
      ]
     },
     "execution_count": 10,
     "metadata": {},
     "output_type": "execute_result"
    }
   ],
   "source": [
    "# Check if there are missing values in 2017 data\n",
    "batting2017.isnull().sum()"
   ]
  },
  {
   "cell_type": "markdown",
   "id": "numerical-grove",
   "metadata": {},
   "source": [
    "There are 7 players missing BB% data"
   ]
  },
  {
   "cell_type": "code",
   "execution_count": 11,
   "id": "opposite-scholar",
   "metadata": {},
   "outputs": [
    {
     "data": {
      "text/plain": [
       "Name              0\n",
       "MarApr_PA         0\n",
       "MarApr_AB         0\n",
       "MarApr_H          0\n",
       "MarApr_HR         0\n",
       "MarApr_K%         0\n",
       "MarApr_BB%        0\n",
       "MarApr_BABIP      0\n",
       "MarApr_ISO        0\n",
       "MarApr_AVG        0\n",
       "MarApr_SLG        0\n",
       "MarApr_OBP        0\n",
       "FullSeason_AVG    0\n",
       "dtype: int64"
      ]
     },
     "execution_count": 11,
     "metadata": {},
     "output_type": "execute_result"
    }
   ],
   "source": [
    "# Remove the players with missing data\n",
    "batting2017 = batting2017.dropna()\n",
    "batting2017.isnull().sum()"
   ]
  },
  {
   "cell_type": "code",
   "execution_count": 12,
   "id": "angry-heaven",
   "metadata": {},
   "outputs": [
    {
     "data": {
      "text/plain": [
       "playerid             0\n",
       "Name                 0\n",
       "Team                 0\n",
       "MarApr_PA            0\n",
       "MarApr_AB            0\n",
       "MarApr_H             0\n",
       "MarApr_HR            0\n",
       "MarApr_R             0\n",
       "MarApr_RBI           0\n",
       "MarApr_SB            0\n",
       "MarApr_BB%           0\n",
       "MarApr_K%            0\n",
       "MarApr_ISO           0\n",
       "MarApr_BABIP         0\n",
       "MarApr_AVG           0\n",
       "MarApr_OBP           0\n",
       "MarApr_SLG           0\n",
       "MarApr_LD%           0\n",
       "MarApr_GB%           0\n",
       "MarApr_FB%           0\n",
       "MarApr_IFFB%         0\n",
       "MarApr_HR/FB         0\n",
       "MarApr_O-Swing%      0\n",
       "MarApr_Z-Swing%      0\n",
       "MarApr_Swing%        0\n",
       "MarApr_O-Contact%    0\n",
       "MarApr_Z-Contact%    0\n",
       "MarApr_Contact%      0\n",
       "FullSeason_AVG       0\n",
       "dtype: int64"
      ]
     },
     "execution_count": 12,
     "metadata": {},
     "output_type": "execute_result"
    }
   ],
   "source": [
    "# Check if there are missing values in 2018 data\n",
    "batting.isnull().sum()"
   ]
  },
  {
   "cell_type": "markdown",
   "id": "technical-appeal",
   "metadata": {},
   "source": [
    "There are no missing values in the 2018 data"
   ]
  },
  {
   "cell_type": "code",
   "execution_count": 13,
   "id": "rational-swing",
   "metadata": {},
   "outputs": [
    {
     "name": "stdout",
     "output_type": "stream",
     "text": [
      "329 players in the 2017 data set\n",
      "309 players in the 2018 data set\n"
     ]
    }
   ],
   "source": [
    "# Check the number of players in the data sets\n",
    "print(len(batting2017), \"players in the 2017 data set\")\n",
    "print(len(batting), \"players in the 2018 data set\")"
   ]
  },
  {
   "cell_type": "markdown",
   "id": "republican-seven",
   "metadata": {},
   "source": [
    "Linear regression analysis"
   ]
  },
  {
   "cell_type": "code",
   "execution_count": 14,
   "id": "russian-executive",
   "metadata": {},
   "outputs": [],
   "source": [
    "# Split the data set into dependent and independent variables\n",
    "\n",
    "# The 2017 full season batting average will be used as the dependent variable to make the\n",
    "# prediction model\n",
    "y2017 = batting2017[\"FullSeason_AVG\"]\n",
    "\n",
    "# The remainder of the categories aside from player name will be used as the dependent\n",
    "# variables\n",
    "# The name column is not needed for analysis\n",
    "X2017 = batting2017.drop([\"Name\", \"FullSeason_AVG\"], axis=1)\n",
    "\n",
    "# Only use the stats I was able to find for 2017 to apply to the prediction model\n",
    "X2018 = batting[['MarApr_PA', 'MarApr_AB', 'MarApr_H', 'MarApr_HR', 'MarApr_K%',\n",
    "       'MarApr_BB%', 'MarApr_BABIP', 'MarApr_ISO', 'MarApr_AVG', 'MarApr_SLG',\n",
    "       'MarApr_OBP']]"
   ]
  },
  {
   "cell_type": "code",
   "execution_count": 15,
   "id": "royal-hypothetical",
   "metadata": {},
   "outputs": [
    {
     "data": {
      "text/plain": [
       "LinearRegression()"
      ]
     },
     "execution_count": 15,
     "metadata": {},
     "output_type": "execute_result"
    }
   ],
   "source": [
    "# Create the linear regression model\n",
    "regr = linear_model.LinearRegression()\n",
    "\n",
    "# The data will be split into testing and training sets \n",
    "    \n",
    "# Split the data into test and training sets with 20% of data as test set\n",
    "X_train2017, X_test2017, y_train2017, y_test2017 = train_test_split(X2017, y2017, test_size=0.2, random_state=1)\n",
    "    \n",
    "# Make the linear regression model\n",
    "regr.fit(X_train2017, y_train2017)"
   ]
  },
  {
   "cell_type": "code",
   "execution_count": 16,
   "id": "junior-retro",
   "metadata": {},
   "outputs": [
    {
     "name": "stdout",
     "output_type": "stream",
     "text": [
      "Training data r-squared: 0.5081029122210063\n",
      "Test data r-squared: 0.5315088312223437\n",
      "Mean Squared Error: 0.030262850395790665\n"
     ]
    }
   ],
   "source": [
    "# Calulate the predicted results\n",
    "predicted_AVG2017 = regr.predict(X_test2017)\n",
    "print(\"Training data r-squared:\", regr.score(X_train2017, y_train2017))\n",
    "print(\"Test data r-squared:\", regr.score(X_test2017, y_test2017))\n",
    "mse = mean_squared_error(y_test2017, predicted_AVG2017)\n",
    "rmse = np.sqrt(mse)\n",
    "print(\"Mean Squared Error:\", rmse)"
   ]
  },
  {
   "cell_type": "markdown",
   "id": "about-robertson",
   "metadata": {},
   "source": [
    "The r-squared values for both the training and testing variables are similar. This shows that they both have a similar fit to the regression model.\n",
    "\n",
    "Keeping this mean squared error value in mind, another model will be analyzed as well for comparison."
   ]
  },
  {
   "cell_type": "code",
   "execution_count": 17,
   "id": "incorporated-vehicle",
   "metadata": {},
   "outputs": [
    {
     "data": {
      "image/png": "[encoded data removed]",
      "text/plain": [
       "<Figure size 792x648 with 2 Axes>"
      ]
     },
     "metadata": {
      "needs_background": "light"
     },
     "output_type": "display_data"
    }
   ],
   "source": [
    "# Take a look at visial representation of correlation between variables\n",
    "corr = batting2017.corr()\n",
    "\n",
    "# Generate a mask for the upper triangle\n",
    "mask = np.triu(np.ones_like(corr, dtype=bool))\n",
    "\n",
    "# Set up the matplotlib figure\n",
    "f, ax = plt.subplots(figsize=(11, 9))\n",
    "\n",
    "# Generate a custom diverging colormap\n",
    "cmap = sns.diverging_palette(240, 10, as_cmap=True)\n",
    "\n",
    "# Draw the heatmap with the mask and correct aspect ratio\n",
    "sns.heatmap(corr, mask=mask, cmap=cmap, vmin=-1, vmax=1, center=0,\n",
    "            square=True, linewidths=.5, cbar_kws={\"shrink\": .5})\n",
    "\n",
    "plt.show()\n",
    "\n",
    "# Code used from:\n",
    "# https://seaborn.pydata.org/examples/many_pairwise_correlations.html"
   ]
  },
  {
   "cell_type": "markdown",
   "id": "greater-capture",
   "metadata": {},
   "source": [
    "The above image the correlations between the variables. The variable pairs that are close to 1 or -1 can have an affect on the model (for example AB/PA). This model can be affected by multicollinearity. Next I will investigate the variable with the highest correlation to the full season batting average."
   ]
  },
  {
   "cell_type": "code",
   "execution_count": 18,
   "id": "expired-beads",
   "metadata": {},
   "outputs": [
    {
     "data": {
      "text/plain": [
       "FullSeason_AVG    1.000000\n",
       "MarApr_AVG        0.650787\n",
       "MarApr_H          0.579462\n",
       "MarApr_OBP        0.514223\n",
       "MarApr_SLG        0.489735\n",
       "MarApr_BABIP      0.485977\n",
       "MarApr_AB         0.361109\n",
       "MarApr_PA         0.351469\n",
       "MarApr_ISO        0.268154\n",
       "MarApr_HR         0.261519\n",
       "MarApr_BB%       -0.044190\n",
       "MarApr_K%        -0.475781\n",
       "Name: FullSeason_AVG, dtype: float64"
      ]
     },
     "execution_count": 18,
     "metadata": {},
     "output_type": "execute_result"
    }
   ],
   "source": [
    "# Look at the correlation\n",
    "max_corr = corr.sort_values(by=\"FullSeason_AVG\", ascending=False)\n",
    "max_corr[\"FullSeason_AVG\"]"
   ]
  },
  {
   "cell_type": "markdown",
   "id": "running-services",
   "metadata": {},
   "source": [
    "March/April batting average has the highest correlation to full season batting average, I will use Mar/Apr batting average to make another model for comparison to the original model."
   ]
  },
  {
   "cell_type": "code",
   "execution_count": 19,
   "id": "headed-neighborhood",
   "metadata": {},
   "outputs": [],
   "source": [
    "# Split the data set into dependent and independent variables\n",
    "\n",
    "y2017 = batting2017[\"FullSeason_AVG\"]\n",
    "X2017 = batting2017[[\"MarApr_AVG\"]]\n",
    "\n",
    "X2018 = batting[['MarApr_AVG']]"
   ]
  },
  {
   "cell_type": "code",
   "execution_count": 20,
   "id": "civilian-physics",
   "metadata": {},
   "outputs": [
    {
     "data": {
      "text/plain": [
       "LinearRegression()"
      ]
     },
     "execution_count": 20,
     "metadata": {},
     "output_type": "execute_result"
    }
   ],
   "source": [
    "# Create the linear regression model\n",
    "regr = linear_model.LinearRegression()\n",
    "\n",
    "# The data will be split into testing and training sets \n",
    "    \n",
    "# Split the data into test and training sets with 20% of data as test set\n",
    "X_train2017, X_test2017, y_train2017, y_test2017 = train_test_split(X2017, y2017, test_size=0.2, random_state=1)\n",
    "    \n",
    "# Make the linear regression model\n",
    "regr.fit(X_train2017, y_train2017)"
   ]
  },
  {
   "cell_type": "code",
   "execution_count": 21,
   "id": "voluntary-heritage",
   "metadata": {},
   "outputs": [
    {
     "name": "stdout",
     "output_type": "stream",
     "text": [
      "Training data r-squared: 0.3920725746138439\n",
      "Test data r-squared: 0.5102883626164193\n",
      "Mean Squared Error: 0.030940643286889644\n"
     ]
    }
   ],
   "source": [
    "# Calulate the predicted results\n",
    "predicted_AVG2017 = regr.predict(X_test2017)\n",
    "print(\"Training data r-squared:\", regr.score(X_train2017, y_train2017))\n",
    "print(\"Test data r-squared:\", regr.score(X_test2017, y_test2017))\n",
    "mse = mean_squared_error(y_test2017, predicted_AVG2017)\n",
    "rmse = np.sqrt(mse)\n",
    "print(\"Mean Squared Error:\", rmse)"
   ]
  },
  {
   "cell_type": "markdown",
   "id": "obvious-selection",
   "metadata": {},
   "source": [
    "The r-squared value for the training set is lower than the r-squared value for the test set. This can be due to the random selection of test/train data.\n",
    "\n",
    "While the r-squared value for the testing data on this model is slightly little lower than in the original model, it is not too dissimilar. The mean squared error is slightly higher than in the original model, but not too dissimilar from the original model.\n",
    "\n",
    "For the final predicition I will use the second model because it does not involve varaibles that may contribute to multicollinearity. While the first model showed a smaller mean squared error, the second model may hold true over multiple years whereas the previous model may not."
   ]
  },
  {
   "cell_type": "code",
   "execution_count": 22,
   "id": "fewer-stephen",
   "metadata": {},
   "outputs": [],
   "source": [
    "# Calulate the predicted results for 2018\n",
    "predicted_AVG2018 = regr.predict(X2018)"
   ]
  },
  {
   "cell_type": "code",
   "execution_count": 23,
   "id": "golden-singing",
   "metadata": {},
   "outputs": [
    {
     "data": {
      "text/html": [
       "<div>\n",
       "<style scoped>\n",
       "    .dataframe tbody tr th:only-of-type {\n",
       "        vertical-align: middle;\n",
       "    }\n",
       "\n",
       "    .dataframe tbody tr th {\n",
       "        vertical-align: top;\n",
       "    }\n",
       "\n",
       "    .dataframe thead th {\n",
       "        text-align: right;\n",
       "    }\n",
       "</style>\n",
       "<table border=\"1\" class=\"dataframe\">\n",
       "  <thead>\n",
       "    <tr style=\"text-align: right;\">\n",
       "      <th></th>\n",
       "      <th>playerid</th>\n",
       "      <th>Name</th>\n",
       "      <th>Team</th>\n",
       "      <th>FullSeason_AVG</th>\n",
       "      <th>Predicted_AVG</th>\n",
       "      <th>%_Error</th>\n",
       "    </tr>\n",
       "  </thead>\n",
       "  <tbody>\n",
       "    <tr>\n",
       "      <th>0</th>\n",
       "      <td>11680</td>\n",
       "      <td>Elias Diaz</td>\n",
       "      <td>Pirates</td>\n",
       "      <td>0.286</td>\n",
       "      <td>0.347746</td>\n",
       "      <td>21.59</td>\n",
       "    </tr>\n",
       "    <tr>\n",
       "      <th>1</th>\n",
       "      <td>12161</td>\n",
       "      <td>Xander Bogaerts</td>\n",
       "      <td>Red Sox</td>\n",
       "      <td>0.288</td>\n",
       "      <td>0.318884</td>\n",
       "      <td>10.72</td>\n",
       "    </tr>\n",
       "    <tr>\n",
       "      <th>2</th>\n",
       "      <td>10816</td>\n",
       "      <td>Jedd Gyorko</td>\n",
       "      <td>Cardinals</td>\n",
       "      <td>0.262</td>\n",
       "      <td>0.299642</td>\n",
       "      <td>14.37</td>\n",
       "    </tr>\n",
       "    <tr>\n",
       "      <th>3</th>\n",
       "      <td>13611</td>\n",
       "      <td>Mookie Betts</td>\n",
       "      <td>Red Sox</td>\n",
       "      <td>0.346</td>\n",
       "      <td>0.291625</td>\n",
       "      <td>15.72</td>\n",
       "    </tr>\n",
       "    <tr>\n",
       "      <th>4</th>\n",
       "      <td>11493</td>\n",
       "      <td>Manny Machado</td>\n",
       "      <td>Orioles</td>\n",
       "      <td>0.297</td>\n",
       "      <td>0.298439</td>\n",
       "      <td>0.48</td>\n",
       "    </tr>\n",
       "    <tr>\n",
       "      <th>...</th>\n",
       "      <td>...</td>\n",
       "      <td>...</td>\n",
       "      <td>...</td>\n",
       "      <td>...</td>\n",
       "      <td>...</td>\n",
       "      <td>...</td>\n",
       "    </tr>\n",
       "    <tr>\n",
       "      <th>304</th>\n",
       "      <td>3298</td>\n",
       "      <td>Charlie Culberson</td>\n",
       "      <td>Braves</td>\n",
       "      <td>0.270</td>\n",
       "      <td>0.198223</td>\n",
       "      <td>26.58</td>\n",
       "    </tr>\n",
       "    <tr>\n",
       "      <th>305</th>\n",
       "      <td>7087</td>\n",
       "      <td>Caleb Joseph</td>\n",
       "      <td>Orioles</td>\n",
       "      <td>0.219</td>\n",
       "      <td>0.208645</td>\n",
       "      <td>4.73</td>\n",
       "    </tr>\n",
       "    <tr>\n",
       "      <th>306</th>\n",
       "      <td>8252</td>\n",
       "      <td>Hunter Pence</td>\n",
       "      <td>Giants</td>\n",
       "      <td>0.226</td>\n",
       "      <td>0.222676</td>\n",
       "      <td>1.47</td>\n",
       "    </tr>\n",
       "    <tr>\n",
       "      <th>307</th>\n",
       "      <td>13130</td>\n",
       "      <td>Mikie Mahtook</td>\n",
       "      <td>Tigers</td>\n",
       "      <td>0.202</td>\n",
       "      <td>0.205438</td>\n",
       "      <td>1.70</td>\n",
       "    </tr>\n",
       "    <tr>\n",
       "      <th>308</th>\n",
       "      <td>5273</td>\n",
       "      <td>Sandy Leon</td>\n",
       "      <td>Red Sox</td>\n",
       "      <td>0.177</td>\n",
       "      <td>0.205438</td>\n",
       "      <td>16.07</td>\n",
       "    </tr>\n",
       "  </tbody>\n",
       "</table>\n",
       "<p>309 rows × 6 columns</p>\n",
       "</div>"
      ],
      "text/plain": [
       "     playerid               Name       Team  FullSeason_AVG  Predicted_AVG  \\\n",
       "0       11680         Elias Diaz    Pirates           0.286       0.347746   \n",
       "1       12161    Xander Bogaerts    Red Sox           0.288       0.318884   \n",
       "2       10816        Jedd Gyorko  Cardinals           0.262       0.299642   \n",
       "3       13611       Mookie Betts    Red Sox           0.346       0.291625   \n",
       "4       11493      Manny Machado    Orioles           0.297       0.298439   \n",
       "..        ...                ...        ...             ...            ...   \n",
       "304      3298  Charlie Culberson     Braves           0.270       0.198223   \n",
       "305      7087       Caleb Joseph    Orioles           0.219       0.208645   \n",
       "306      8252       Hunter Pence     Giants           0.226       0.222676   \n",
       "307     13130      Mikie Mahtook     Tigers           0.202       0.205438   \n",
       "308      5273         Sandy Leon    Red Sox           0.177       0.205438   \n",
       "\n",
       "     %_Error  \n",
       "0      21.59  \n",
       "1      10.72  \n",
       "2      14.37  \n",
       "3      15.72  \n",
       "4       0.48  \n",
       "..       ...  \n",
       "304    26.58  \n",
       "305     4.73  \n",
       "306     1.47  \n",
       "307     1.70  \n",
       "308    16.07  \n",
       "\n",
       "[309 rows x 6 columns]"
      ]
     },
     "execution_count": 23,
     "metadata": {},
     "output_type": "execute_result"
    }
   ],
   "source": [
    "# Calulate the predicted results\n",
    "predicted_AVG = regr.predict(X2018)\n",
    "results = batting[[\"playerid\", \"Name\", \"Team\", \"FullSeason_AVG\"]]\n",
    "results[\"Predicted_AVG\"] = predicted_AVG\n",
    "\n",
    "# Calculate percent error\n",
    "results[\"%_Error\"] = round(100 * (results[\"FullSeason_AVG\"] - results[\"Predicted_AVG\"]).abs()/results[\"FullSeason_AVG\"],2)\n",
    "\n",
    "# Download csv results file\n",
    "results.to_csv(\"Results.csv\")\n",
    "\n",
    "results"
   ]
  },
  {
   "cell_type": "markdown",
   "id": "tracked-export",
   "metadata": {},
   "source": [
    "The dataframe above contains the predicted results alongside the actual 2018 full season batting averages and a % error calculation. A complete csv file is included for complete viewing."
   ]
  },
  {
   "cell_type": "code",
   "execution_count": 24,
   "id": "plain-vintage",
   "metadata": {},
   "outputs": [
    {
     "name": "stdout",
     "output_type": "stream",
     "text": [
      "The average % error is: 8.88\n",
      "The range of % errors is: 0.02 - 49.96\n"
     ]
    }
   ],
   "source": [
    "print(f\"The average % error is:\", round(results[\"%_Error\"].mean(),2))\n",
    "\n",
    "print(\"The range of % errors is:\", round(results[\"%_Error\"].min(),2), \"-\", \n",
    "      round(results[\"%_Error\"].max(),2))"
   ]
  },
  {
   "cell_type": "code",
   "execution_count": 25,
   "id": "olive-longer",
   "metadata": {},
   "outputs": [
    {
     "data": {
      "image/png": "[encoded data removed]",
      "text/plain": [
       "<Figure size 432x288 with 1 Axes>"
      ]
     },
     "metadata": {
      "needs_background": "light"
     },
     "output_type": "display_data"
    }
   ],
   "source": [
    "plt.scatter(X_test2017, y_test2017,  color='black')\n",
    "plt.plot(X2018, predicted_AVG, color='blue', linewidth=3)\n",
    "plt.title(\"2017 Test vs. 2018 Prediction\")\n",
    "plt.xlabel(\"Mar/Apr Batting Average\")\n",
    "plt.ylabel(\"Final Batting Average\")\n",
    "plt.legend([\"2018 Prediction Line\", \"2017 Test Points\"])\n",
    "plt.show()"
   ]
  },
  {
   "cell_type": "markdown",
   "id": "expanded-racing",
   "metadata": {},
   "source": [
    "The graph shows the fit of the 2017 test data to the 2018 formulated regression line. The majority of the points appear to be clustered around the regression line. However, there are two points that may be potential outliers and reduce the accuracy of the model."
   ]
  },
  {
   "cell_type": "markdown",
   "id": "romantic-starter",
   "metadata": {},
   "source": [
    "I believe the model used gave a good prediction of the 2018 full season batting averages. It goes on the assumption that two consecutive years are similar for comparison as long as the rules of the game, or other outside factors do not heavily influence the data. One example would be comparing the 2019 season to 2020. The disruption due to Covid-19 would make the 2020 season incomparable to 2019."
   ]
  }
 ],
 "metadata": {
  "kernelspec": {
   "display_name": "Python 3",
   "language": "python",
   "name": "python3"
  },
  "language_info": {
   "codemirror_mode": {
    "name": "ipython",
    "version": 3
   },
   "file_extension": ".py",
   "mimetype": "text/x-python",
   "name": "python",
   "nbconvert_exporter": "python",
   "pygments_lexer": "ipython3",
   "version": "3.6.10"
  }
 },
 "nbformat": 4,
 "nbformat_minor": 5
}
