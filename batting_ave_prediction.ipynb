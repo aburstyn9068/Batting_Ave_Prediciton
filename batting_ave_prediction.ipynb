{
 "cells": [
  {
   "cell_type": "markdown",
   "id": "vertical-academy",
   "metadata": {},
   "source": [
    "# Batting Average Prediction Model"
   ]
  },
  {
   "cell_type": "markdown",
   "id": "antique-consumption",
   "metadata": {},
   "source": [
    "This notebook provides a model to predict a player's 2018 final batting average using stats from March/April 2018. The model will be created using a prior year's early season to post season data comparison.\n",
    "\n",
    "The prediction model will use the April 2017 data (there were no games in March 2017, opening day was 4/2/17) and final batting average data from the 2017 season to create a linear regression model. The March/April data from the 2018 season will then be applied to this model to predict the final batting average for the 2018 season.\n",
    "\n",
    "The 2017 data uses the labels \"MarApr\" even though there is no data from March 2017. The \"MarApr\" label was used to keep the column names consistant with the 2018 data.\n",
    "\n",
    "The data was obtained from Baseball Savant Statcast Search:\n",
    "https://baseballsavant.mlb.com/statcast_search"
   ]
  },
  {
   "cell_type": "code",
   "execution_count": 1,
   "id": "spiritual-prize",
   "metadata": {},
   "outputs": [],
   "source": [
    "# Import dependcies\n",
    "import pandas as pd\n",
    "import numpy as np\n",
    "import matplotlib.pyplot as plt\n",
    "from sklearn import linear_model\n",
    "from sklearn.model_selection import train_test_split\n",
    "from sklearn.metrics import mean_squared_error\n",
    "import seaborn as sns\n",
    "from scipy.stats import linregress\n",
    "import warnings\n",
    "warnings.filterwarnings('ignore')"
   ]
  },
  {
   "cell_type": "code",
   "execution_count": 2,
   "id": "living-exemption",
   "metadata": {},
   "outputs": [],
   "source": [
    "# Upload csv files data\n",
    "batting2018 = pd.read_csv(\"batting2018.csv\")\n",
    "batting2017 = pd.read_csv(\"batting2017.csv\")"
   ]
  },
  {
   "cell_type": "markdown",
   "id": "authentic-funds",
   "metadata": {},
   "source": [
    "<H2>Explore the data</H2>"
   ]
  },
  {
   "cell_type": "code",
   "execution_count": 3,
   "id": "fifty-sheet",
   "metadata": {},
   "outputs": [
    {
     "data": {
      "text/plain": [
       "Index(['Name', 'MarApr_PA', 'MarApr_AB', 'MarApr_H', 'MarApr_HR', 'MarApr_K%',\n",
       "       'MarApr_BB%', 'MarApr_BABIP', 'MarApr_ISO', 'MarApr_AVG', 'MarApr_SLG',\n",
       "       'MarApr_OBP', 'FullSeason_AVG'],\n",
       "      dtype='object')"
      ]
     },
     "execution_count": 3,
     "metadata": {},
     "output_type": "execute_result"
    }
   ],
   "source": [
    "# Display the 2017 column names\n",
    "batting2017.columns"
   ]
  },
  {
   "cell_type": "code",
   "execution_count": 4,
   "id": "applied-wyoming",
   "metadata": {},
   "outputs": [
    {
     "data": {
      "text/plain": [
       "Index(['Name', 'MarApr_PA', 'MarApr_AB', 'MarApr_H', 'MarApr_HR', 'MarApr_K%',\n",
       "       'MarApr_BB%', 'MarApr_BABIP', 'MarApr_ISO', 'MarApr_AVG', 'MarApr_SLG',\n",
       "       'MarApr_OBP', 'FullSeason_AVG'],\n",
       "      dtype='object')"
      ]
     },
     "execution_count": 4,
     "metadata": {},
     "output_type": "execute_result"
    }
   ],
   "source": [
    "# Display the 2018 column names\n",
    "batting2018.columns"
   ]
  },
  {
   "cell_type": "code",
   "execution_count": 5,
   "id": "spare-victory",
   "metadata": {},
   "outputs": [
    {
     "data": {
      "text/plain": [
       "Name               object\n",
       "MarApr_PA           int64\n",
       "MarApr_AB           int64\n",
       "MarApr_H            int64\n",
       "MarApr_HR           int64\n",
       "MarApr_K%         float64\n",
       "MarApr_BB%        float64\n",
       "MarApr_BABIP      float64\n",
       "MarApr_ISO        float64\n",
       "MarApr_AVG        float64\n",
       "MarApr_SLG        float64\n",
       "MarApr_OBP        float64\n",
       "FullSeason_AVG    float64\n",
       "dtype: object"
      ]
     },
     "execution_count": 5,
     "metadata": {},
     "output_type": "execute_result"
    }
   ],
   "source": [
    "# Display 2017 datatypes\n",
    "batting2017.dtypes"
   ]
  },
  {
   "cell_type": "code",
   "execution_count": 6,
   "id": "assigned-louis",
   "metadata": {},
   "outputs": [
    {
     "data": {
      "text/plain": [
       "Name               object\n",
       "MarApr_PA         float64\n",
       "MarApr_AB         float64\n",
       "MarApr_H          float64\n",
       "MarApr_HR         float64\n",
       "MarApr_K%         float64\n",
       "MarApr_BB%        float64\n",
       "MarApr_BABIP      float64\n",
       "MarApr_ISO        float64\n",
       "MarApr_AVG        float64\n",
       "MarApr_SLG        float64\n",
       "MarApr_OBP        float64\n",
       "FullSeason_AVG    float64\n",
       "dtype: object"
      ]
     },
     "execution_count": 6,
     "metadata": {},
     "output_type": "execute_result"
    }
   ],
   "source": [
    "# Display 2018 datatypes\n",
    "batting2018.dtypes"
   ]
  },
  {
   "cell_type": "code",
   "execution_count": 7,
   "id": "noble-miller",
   "metadata": {},
   "outputs": [],
   "source": [
    "# Set the minimum number of plate appearances\n",
    "min_PA = 30"
   ]
  },
  {
   "cell_type": "code",
   "execution_count": 8,
   "id": "challenging-badge",
   "metadata": {},
   "outputs": [],
   "source": [
    "# Only include players with the minumum number of plate appearances\n",
    "batting2017 = batting2017.loc[batting2017[\"MarApr_PA\"]>=min_PA]\n",
    "batting2018 = batting2018.loc[batting2018[\"MarApr_PA\"]>=min_PA]"
   ]
  },
  {
   "cell_type": "code",
   "execution_count": 9,
   "id": "understanding-rough",
   "metadata": {},
   "outputs": [
    {
     "data": {
      "text/plain": [
       "Name              0\n",
       "MarApr_PA         0\n",
       "MarApr_AB         0\n",
       "MarApr_H          0\n",
       "MarApr_HR         0\n",
       "MarApr_K%         0\n",
       "MarApr_BB%        7\n",
       "MarApr_BABIP      0\n",
       "MarApr_ISO        0\n",
       "MarApr_AVG        0\n",
       "MarApr_SLG        0\n",
       "MarApr_OBP        0\n",
       "FullSeason_AVG    0\n",
       "dtype: int64"
      ]
     },
     "execution_count": 9,
     "metadata": {},
     "output_type": "execute_result"
    }
   ],
   "source": [
    "# Check if there are missing values in the 2017 data\n",
    "batting2017.isnull().sum()"
   ]
  },
  {
   "cell_type": "code",
   "execution_count": 10,
   "id": "acceptable-rescue",
   "metadata": {},
   "outputs": [
    {
     "data": {
      "text/plain": [
       "Name              0\n",
       "MarApr_PA         0\n",
       "MarApr_AB         0\n",
       "MarApr_H          0\n",
       "MarApr_HR         0\n",
       "MarApr_K%         0\n",
       "MarApr_BB%        0\n",
       "MarApr_BABIP      0\n",
       "MarApr_ISO        0\n",
       "MarApr_AVG        0\n",
       "MarApr_SLG        0\n",
       "MarApr_OBP        0\n",
       "FullSeason_AVG    0\n",
       "dtype: int64"
      ]
     },
     "execution_count": 10,
     "metadata": {},
     "output_type": "execute_result"
    }
   ],
   "source": [
    "# Remove the players with missing data\n",
    "batting2017 = batting2017.dropna()\n",
    "batting2017.isnull().sum()"
   ]
  },
  {
   "cell_type": "code",
   "execution_count": 11,
   "id": "frequent-george",
   "metadata": {},
   "outputs": [
    {
     "data": {
      "text/plain": [
       "Name              0\n",
       "MarApr_PA         0\n",
       "MarApr_AB         0\n",
       "MarApr_H          0\n",
       "MarApr_HR         0\n",
       "MarApr_K%         0\n",
       "MarApr_BB%        5\n",
       "MarApr_BABIP      0\n",
       "MarApr_ISO        0\n",
       "MarApr_AVG        0\n",
       "MarApr_SLG        0\n",
       "MarApr_OBP        0\n",
       "FullSeason_AVG    0\n",
       "dtype: int64"
      ]
     },
     "execution_count": 11,
     "metadata": {},
     "output_type": "execute_result"
    }
   ],
   "source": [
    "# Check if there are missing values in 2018 data\n",
    "batting2018.isnull().sum()"
   ]
  },
  {
   "cell_type": "code",
   "execution_count": 12,
   "id": "functional-blogger",
   "metadata": {},
   "outputs": [
    {
     "data": {
      "text/plain": [
       "Name              0\n",
       "MarApr_PA         0\n",
       "MarApr_AB         0\n",
       "MarApr_H          0\n",
       "MarApr_HR         0\n",
       "MarApr_K%         0\n",
       "MarApr_BB%        0\n",
       "MarApr_BABIP      0\n",
       "MarApr_ISO        0\n",
       "MarApr_AVG        0\n",
       "MarApr_SLG        0\n",
       "MarApr_OBP        0\n",
       "FullSeason_AVG    0\n",
       "dtype: int64"
      ]
     },
     "execution_count": 12,
     "metadata": {},
     "output_type": "execute_result"
    }
   ],
   "source": [
    "# Remove the players with missing data\n",
    "batting2018 = batting2018.dropna()\n",
    "batting2018.isnull().sum()"
   ]
  },
  {
   "cell_type": "code",
   "execution_count": 13,
   "id": "balanced-method",
   "metadata": {},
   "outputs": [
    {
     "name": "stdout",
     "output_type": "stream",
     "text": [
      "329 players in the 2017 data set\n",
      "365 players in the 2018 data set\n"
     ]
    }
   ],
   "source": [
    "# Check the number of players in the data sets\n",
    "print(len(batting2017), \"players in the 2017 data set\")\n",
    "print(len(batting2018), \"players in the 2018 data set\")"
   ]
  },
  {
   "cell_type": "markdown",
   "id": "excessive-share",
   "metadata": {},
   "source": [
    "<H2>Check for relationships between variables</H2>"
   ]
  },
  {
   "cell_type": "code",
   "execution_count": 14,
   "id": "following-fleece",
   "metadata": {},
   "outputs": [
    {
     "data": {
      "image/png": "[encoded data removed]",
      "text/plain": [
       "<Figure size 792x648 with 2 Axes>"
      ]
     },
     "metadata": {
      "needs_background": "light"
     },
     "output_type": "display_data"
    }
   ],
   "source": [
    "# Take a look at visial representation of correlation between variables\n",
    "corr = batting2017.corr()\n",
    "\n",
    "# Generate a mask for the upper triangle\n",
    "mask = np.triu(np.ones_like(corr, dtype=bool))\n",
    "\n",
    "# Set up the matplotlib figure\n",
    "f, ax = plt.subplots(figsize=(11, 9))\n",
    "\n",
    "# Generate a custom diverging colormap\n",
    "cmap = sns.diverging_palette(240, 10, as_cmap=True)\n",
    "\n",
    "# Draw the heatmap with the mask and correct aspect ratio\n",
    "sns.heatmap(corr, mask=mask, cmap=cmap, vmin=-1, vmax=1, center=0, annot=True,\n",
    "            square=True, linewidths=.5, cbar_kws={\"shrink\": .5})\n",
    "\n",
    "plt.show()\n",
    "\n",
    "# Code used from:\n",
    "# https://seaborn.pydata.org/examples/many_pairwise_correlations.html"
   ]
  },
  {
   "cell_type": "markdown",
   "id": "chubby-valuable",
   "metadata": {},
   "source": [
    "The above image shows the correlations between the input variables. The variable pairs that are close to 1 or -1 can have a negative affect on the model (for example AB/PA). Including variables that are highly correleated to eachother will cause the model to be less accurate due to the multicollinearity between the variables.\n",
    "\n",
    "The most important variables will need to be selected to increase the reliability of the model."
   ]
  },
  {
   "cell_type": "markdown",
   "id": "offensive-nevada",
   "metadata": {},
   "source": [
    "<H2>Find the optimal combination of features (variables) to make the best model</H2>"
   ]
  },
  {
   "cell_type": "code",
   "execution_count": 15,
   "id": "preliminary-commander",
   "metadata": {},
   "outputs": [
    {
     "data": {
      "image/png": "[encoded data removed]",
      "text/plain": [
       "<Figure size 432x288 with 1 Axes>"
      ]
     },
     "metadata": {
      "needs_background": "light"
     },
     "output_type": "display_data"
    },
    {
     "name": "stdout",
     "output_type": "stream",
     "text": [
      "Best score: 0.0008103293000644871\n",
      "Best subset: ['MarApr_AB', 'MarApr_K%', 'MarApr_AVG']\n"
     ]
    }
   ],
   "source": [
    "from sklearn.linear_model import LinearRegression\n",
    "from mlxtend.feature_selection import SequentialFeatureSelector as SFS\n",
    "from mlxtend.plotting import plot_sequential_feature_selection as plot_sfs\n",
    "\n",
    "y2017 = batting2017[\"FullSeason_AVG\"]\n",
    "X2017 = batting2017.drop([\"Name\", \"FullSeason_AVG\"], axis=1)\n",
    "\n",
    "regr = linear_model.LinearRegression()\n",
    "\n",
    "# Split the data into test and training sets with 20% of data as test set\n",
    "X_train2017, X_test2017, y_train2017, y_test2017 = train_test_split(X2017, y2017, test_size=0.2, random_state=1)\n",
    "\n",
    "sfs = SFS(regr, \n",
    "          k_features=(1, len(X2017.columns)),\n",
    "          forward=True, \n",
    "          floating=False,\n",
    "          verbose=0,\n",
    "          scoring='neg_mean_squared_error',\n",
    "          cv=10)\n",
    "\n",
    "sfs = sfs.fit(X_train2017, y_train2017)\n",
    "\n",
    "fig = plot_sfs(sfs.get_metric_dict(), kind='std_err')\n",
    "\n",
    "plt.title('Sequential Forward Selection (w. StdErr)')\n",
    "plt.grid()\n",
    "plt.show()\n",
    "best_stats = list(sfs.k_feature_names_)\n",
    "\n",
    "print('Best score:', sfs.k_score_ * (-1))\n",
    "print('Best subset:', best_stats)\n",
    "\n",
    "# http://rasbt.github.io/mlxtend/user_guide/feature_selection/SequentialFeatureSelector/"
   ]
  },
  {
   "cell_type": "markdown",
   "id": "conventional-adams",
   "metadata": {},
   "source": [
    "Using a forward sequential feature selector, AB, K%, and AVG were found to be the best combination of variables. This is represented on the graph above. The highest point of the graph (indiciating the lowest error) is where 3 features are used in the model."
   ]
  },
  {
   "cell_type": "markdown",
   "id": "fossil-learning",
   "metadata": {},
   "source": [
    "<H3>Check for relationships between the three selected variables (AB, K%, AVG)</H3>"
   ]
  },
  {
   "cell_type": "code",
   "execution_count": 16,
   "id": "hungry-objective",
   "metadata": {},
   "outputs": [
    {
     "data": {
      "image/png": "[encoded data removed]",
      "text/plain": [
       "<Figure size 504x360 with 2 Axes>"
      ]
     },
     "metadata": {
      "needs_background": "light"
     },
     "output_type": "display_data"
    }
   ],
   "source": [
    "# Take a look at visial representation of correlation between variables\n",
    "corr = batting2017[best_stats].corr()\n",
    "\n",
    "# Generate a mask for the upper triangle\n",
    "mask = np.triu(np.ones_like(corr, dtype=bool))\n",
    "\n",
    "# Set up the matplotlib figure\n",
    "f, ax = plt.subplots(figsize=(7, 5))\n",
    "\n",
    "# Generate a custom diverging colormap\n",
    "cmap = sns.diverging_palette(240, 10, as_cmap=True)\n",
    "\n",
    "# Draw the heatmap with the mask and correct aspect ratio\n",
    "sns.heatmap(corr, mask=mask, cmap=cmap, vmin=-1, vmax=1, center=0, annot=True,\n",
    "            square=True, linewidths=.5, cbar_kws={\"shrink\": .5})\n",
    "\n",
    "plt.show()\n",
    "\n",
    "# Code used from:\n",
    "# https://seaborn.pydata.org/examples/many_pairwise_correlations.html"
   ]
  },
  {
   "cell_type": "markdown",
   "id": "baking-canon",
   "metadata": {},
   "source": [
    "The variables in this set are not highly correlated with each other. This will be an acceptable coolection of variables to use as the prediction model."
   ]
  },
  {
   "cell_type": "markdown",
   "id": "actual-competition",
   "metadata": {},
   "source": [
    "<H3>Train the model</H3>"
   ]
  },
  {
   "cell_type": "code",
   "execution_count": 17,
   "id": "minimal-brain",
   "metadata": {},
   "outputs": [],
   "source": [
    "y2017 = batting2017[\"FullSeason_AVG\"]\n",
    "X2017 = batting2017[best_stats]\n",
    "X2018 = batting2018[best_stats]"
   ]
  },
  {
   "cell_type": "code",
   "execution_count": 18,
   "id": "productive-carry",
   "metadata": {},
   "outputs": [
    {
     "data": {
      "text/plain": [
       "LinearRegression()"
      ]
     },
     "execution_count": 18,
     "metadata": {},
     "output_type": "execute_result"
    }
   ],
   "source": [
    "# Create the linear regression model\n",
    "regr = linear_model.LinearRegression()\n",
    "\n",
    "# The data will be split into testing and training sets \n",
    "    \n",
    "# Split the data into test and training sets with 20% of data as test set\n",
    "X_train2017, X_test2017, y_train2017, y_test2017 = train_test_split(X2017, y2017, test_size=0.2, random_state=1)\n",
    "    \n",
    "# Make the linear regression model\n",
    "regr.fit(X_train2017, y_train2017)"
   ]
  },
  {
   "cell_type": "markdown",
   "id": "foreign-chassis",
   "metadata": {},
   "source": [
    "<H3>Test the model</H3>"
   ]
  },
  {
   "cell_type": "code",
   "execution_count": 19,
   "id": "inside-namibia",
   "metadata": {},
   "outputs": [
    {
     "name": "stdout",
     "output_type": "stream",
     "text": [
      "Training data r-squared: 0.48957876838919656\n",
      "Test data r-squared: 0.5565180863280633\n",
      "Root Mean Squared Error: 0.029444018573431353\n"
     ]
    }
   ],
   "source": [
    "# Calulate the predicted results\n",
    "predicted_AVG2017 = regr.predict(X_test2017)\n",
    "print(\"Training data r-squared:\", regr.score(X_train2017, y_train2017))\n",
    "print(\"Test data r-squared:\", regr.score(X_test2017, y_test2017))\n",
    "mse = mean_squared_error(y_test2017, predicted_AVG2017)\n",
    "rmse = np.sqrt(mse)\n",
    "print(\"Root Mean Squared Error:\", rmse)"
   ]
  },
  {
   "cell_type": "markdown",
   "id": "sustained-analysis",
   "metadata": {},
   "source": [
    "For comparison I will train and test a model using all of the variables."
   ]
  },
  {
   "cell_type": "code",
   "execution_count": 20,
   "id": "olympic-asthma",
   "metadata": {},
   "outputs": [
    {
     "name": "stdout",
     "output_type": "stream",
     "text": [
      "Training data r-squared: 0.5081029122210063\n",
      "Test data r-squared: 0.5315088312223437\n",
      "Root Mean Squared Error: 0.030262850395790665\n"
     ]
    }
   ],
   "source": [
    "# Model including all of the varaibles\n",
    "y2017All = batting2017[\"FullSeason_AVG\"]\n",
    "X2017All = batting2017.drop(columns=[\"Name\", \"FullSeason_AVG\"])\n",
    "X2018All = batting2018.drop(columns=[\"Name\", \"FullSeason_AVG\"])\n",
    "\n",
    "# Create the linear regression model\n",
    "regrAll = linear_model.LinearRegression()\n",
    "\n",
    "# The data will be split into testing and training sets \n",
    "    \n",
    "# Split the data into test and training sets with 20% of data as test set\n",
    "X_train2017, X_test2017, y_train2017, y_test2017 = train_test_split(X2017All, y2017All, test_size=0.2, random_state=1)\n",
    "    \n",
    "# Make the linear regression model\n",
    "regrAll.fit(X_train2017, y_train2017)\n",
    "\n",
    "# Calulate the predicted results\n",
    "predicted_AVG2017 = regrAll.predict(X_test2017)\n",
    "print(\"Training data r-squared:\", regrAll.score(X_train2017, y_train2017))\n",
    "print(\"Test data r-squared:\", regrAll.score(X_test2017, y_test2017))\n",
    "mse = mean_squared_error(y_test2017, predicted_AVG2017)\n",
    "rmse = np.sqrt(mse)\n",
    "print(\"Root Mean Squared Error:\", rmse)"
   ]
  },
  {
   "cell_type": "markdown",
   "id": "alpha-penny",
   "metadata": {},
   "source": [
    "This selected combination of features (AB, K%, and AVG) has a lower root mean squared error and higher testing r-squared value than the model using all of the variables.\n",
    "\n",
    "Selecting only the AB, K%, and AVG variables produces a more accurate model than using all of the variables."
   ]
  },
  {
   "cell_type": "markdown",
   "id": "recorded-printer",
   "metadata": {},
   "source": [
    "<H3>Predict the 2018 end of season batting average</H3>"
   ]
  },
  {
   "cell_type": "code",
   "execution_count": 21,
   "id": "fallen-sacramento",
   "metadata": {},
   "outputs": [
    {
     "data": {
      "text/html": [
       "<div>\n",
       "<style scoped>\n",
       "    .dataframe tbody tr th:only-of-type {\n",
       "        vertical-align: middle;\n",
       "    }\n",
       "\n",
       "    .dataframe tbody tr th {\n",
       "        vertical-align: top;\n",
       "    }\n",
       "\n",
       "    .dataframe thead th {\n",
       "        text-align: right;\n",
       "    }\n",
       "</style>\n",
       "<table border=\"1\" class=\"dataframe\">\n",
       "  <thead>\n",
       "    <tr style=\"text-align: right;\">\n",
       "      <th></th>\n",
       "      <th>Name</th>\n",
       "      <th>FullSeason_AVG</th>\n",
       "      <th>Predicted_AVG</th>\n",
       "      <th>%_Error</th>\n",
       "    </tr>\n",
       "  </thead>\n",
       "  <tbody>\n",
       "    <tr>\n",
       "      <th>2</th>\n",
       "      <td>Judge, Aaron</td>\n",
       "      <td>0.278</td>\n",
       "      <td>0.268772</td>\n",
       "      <td>3.32</td>\n",
       "    </tr>\n",
       "    <tr>\n",
       "      <th>3</th>\n",
       "      <td>Semien, Marcus</td>\n",
       "      <td>0.255</td>\n",
       "      <td>0.270240</td>\n",
       "      <td>5.98</td>\n",
       "    </tr>\n",
       "    <tr>\n",
       "      <th>4</th>\n",
       "      <td>Pirela, Jose</td>\n",
       "      <td>0.249</td>\n",
       "      <td>0.271741</td>\n",
       "      <td>9.13</td>\n",
       "    </tr>\n",
       "    <tr>\n",
       "      <th>5</th>\n",
       "      <td>Hernandez, Cesar</td>\n",
       "      <td>0.253</td>\n",
       "      <td>0.269217</td>\n",
       "      <td>6.41</td>\n",
       "    </tr>\n",
       "    <tr>\n",
       "      <th>6</th>\n",
       "      <td>Gardner, Brett</td>\n",
       "      <td>0.236</td>\n",
       "      <td>0.248906</td>\n",
       "      <td>5.47</td>\n",
       "    </tr>\n",
       "    <tr>\n",
       "      <th>...</th>\n",
       "      <td>...</td>\n",
       "      <td>...</td>\n",
       "      <td>...</td>\n",
       "      <td>...</td>\n",
       "    </tr>\n",
       "    <tr>\n",
       "      <th>367</th>\n",
       "      <td>Muncy, Max</td>\n",
       "      <td>0.263</td>\n",
       "      <td>0.204552</td>\n",
       "      <td>22.22</td>\n",
       "    </tr>\n",
       "    <tr>\n",
       "      <th>369</th>\n",
       "      <td>Maxwell, Bruce</td>\n",
       "      <td>0.182</td>\n",
       "      <td>0.212577</td>\n",
       "      <td>16.80</td>\n",
       "    </tr>\n",
       "    <tr>\n",
       "      <th>378</th>\n",
       "      <td>Culberson, Charlie</td>\n",
       "      <td>0.270</td>\n",
       "      <td>0.177535</td>\n",
       "      <td>34.25</td>\n",
       "    </tr>\n",
       "    <tr>\n",
       "      <th>381</th>\n",
       "      <td>Sucre, Jesús</td>\n",
       "      <td>0.209</td>\n",
       "      <td>0.258679</td>\n",
       "      <td>23.77</td>\n",
       "    </tr>\n",
       "    <tr>\n",
       "      <th>386</th>\n",
       "      <td>Hicks, John</td>\n",
       "      <td>0.260</td>\n",
       "      <td>0.203406</td>\n",
       "      <td>21.77</td>\n",
       "    </tr>\n",
       "  </tbody>\n",
       "</table>\n",
       "<p>365 rows × 4 columns</p>\n",
       "</div>"
      ],
      "text/plain": [
       "                   Name  FullSeason_AVG  Predicted_AVG  %_Error\n",
       "2          Judge, Aaron           0.278       0.268772     3.32\n",
       "3        Semien, Marcus           0.255       0.270240     5.98\n",
       "4          Pirela, Jose           0.249       0.271741     9.13\n",
       "5      Hernandez, Cesar           0.253       0.269217     6.41\n",
       "6        Gardner, Brett           0.236       0.248906     5.47\n",
       "..                  ...             ...            ...      ...\n",
       "367          Muncy, Max           0.263       0.204552    22.22\n",
       "369      Maxwell, Bruce           0.182       0.212577    16.80\n",
       "378  Culberson, Charlie           0.270       0.177535    34.25\n",
       "381        Sucre, Jesús           0.209       0.258679    23.77\n",
       "386         Hicks, John           0.260       0.203406    21.77\n",
       "\n",
       "[365 rows x 4 columns]"
      ]
     },
     "execution_count": 21,
     "metadata": {},
     "output_type": "execute_result"
    }
   ],
   "source": [
    "# Calulate the predicted results\n",
    "predicted_AVG = regr.predict(X2018)\n",
    "results = batting2018[[\"Name\", \"FullSeason_AVG\"]]\n",
    "results[\"Predicted_AVG\"] = predicted_AVG\n",
    "\n",
    "# Calculate percent error\n",
    "results[\"%_Error\"] = round(100 * (results[\"FullSeason_AVG\"] - results[\"Predicted_AVG\"]).abs()/results[\"FullSeason_AVG\"],2)\n",
    "\n",
    "# Download csv results file\n",
    "results.to_csv(\"Results.csv\")\n",
    "\n",
    "results"
   ]
  },
  {
   "cell_type": "code",
   "execution_count": 22,
   "id": "simple-curve",
   "metadata": {
    "scrolled": true
   },
   "outputs": [
    {
     "name": "stdout",
     "output_type": "stream",
     "text": [
      "The average % error is: 10.59%\n",
      "The range of % errors is: 0.01% - 63.09%\n"
     ]
    }
   ],
   "source": [
    "print(\"The average % error is: \" + str(round(results[\"%_Error\"].mean(),2)) + \"%\")\n",
    "\n",
    "print(\"The range of % errors is: \" + str(round(results[\"%_Error\"].min(),2)) + \"% - \" + \n",
    "      str(round(results[\"%_Error\"].max(),2)) + \"%\")"
   ]
  },
  {
   "cell_type": "markdown",
   "id": "usual-honey",
   "metadata": {},
   "source": [
    "While some of the batting average predictions were very close (0.01% error), others were not as close to the correct average (63.09% error). There are several factors that can contribute to the wide range of % errors in the prediction model.\n",
    "\n",
    "This is mainly due to the fact that no two seasons are alike. A players previous season is not necessarlily an indicator for future performance. There are several factors that can change between seasons and throughout the course of a season. Some of these factors include improved performance, injury, and off field issues/distractions.\n",
    "\n",
    "A model accounting for offseason and inseason training activities in addition to the previous season data may lead to a more accurate prediction."
   ]
  }
 ],
 "metadata": {
  "kernelspec": {
   "display_name": "Python 3",
   "language": "python",
   "name": "python3"
  },
  "language_info": {
   "codemirror_mode": {
    "name": "ipython",
    "version": 3
   },
   "file_extension": ".py",
   "mimetype": "text/x-python",
   "name": "python",
   "nbconvert_exporter": "python",
   "pygments_lexer": "ipython3",
   "version": "3.6.10"
  }
 },
 "nbformat": 4,
 "nbformat_minor": 5
}
